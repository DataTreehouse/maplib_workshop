{
 "cells": [
  {
   "cell_type": "code",
   "execution_count": null,
   "metadata": {
    "ExecuteTime": {
     "end_time": "2023-06-26T15:07:42.587856519Z",
     "start_time": "2023-06-26T15:07:42.580148392Z"
    }
   },
   "outputs": [],
   "source": [
    "from maplib import Mapping\n",
    "import polars as pl\n",
    "from math import floor\n",
    "pl.config = pl.Config(fmt_str_lengths=150)"
   ]
  },
  {
   "cell_type": "code",
   "execution_count": null,
   "metadata": {},
   "outputs": [],
   "source": [
    "rds = \"https://github.com/DataTreehouse/maplib_workshop/rds_power#\""
   ]
  },
  {
   "cell_type": "markdown",
   "metadata": {},
   "source": [
    "This notebook creates a combination of the functional aspect of three Solar PV plants according to the Reference Designation System as proposed in a draft by Statkraft, and a publicly available dataset from NIST ( https://pvdata.nist.gov/ ). It is intended for experimental purposes only. In the full version of the demo, it is possible to use this model as context from time-series data from the NIST dataset, and to jointly query context and time-series using [chrontext](https://github.com/DataTreehouse/chrontext)."
   ]
  },
  {
   "cell_type": "markdown",
   "metadata": {},
   "source": [
    "Image from https://pvdata.nist.gov/ \n",
    "![Alt text](ground.jpg \"Image from https://pvdata.nist.gov/ showing a solar PV installation\")"
   ]
  },
  {
   "cell_type": "markdown",
   "metadata": {},
   "source": [
    "### These are the templates we will use in the mapping:"
   ]
  },
  {
   "cell_type": "code",
   "execution_count": null,
   "metadata": {
    "ExecuteTime": {
     "end_time": "2023-06-26T15:07:42.771385366Z",
     "start_time": "2023-06-26T15:07:42.719536544Z"
    }
   },
   "outputs": [],
   "source": [
    "mapping_doc = \"\"\"\n",
    "@prefix tpl:<https://github.com/DataTreehouse/maplib_workshop/templates#>.\n",
    "@prefix rds:<https://github.com/DataTreehouse/maplib_workshop/rds_power#>.\n",
    "@prefix ct:<https://github.com/DataTreehouse/chrontext#>.\n",
    "@prefix rdfs:<http://www.w3.org/2000/01/rdf-schema#>.\n",
    "\n",
    "tpl:Types[] :: {\n",
    "    ottr:Triple(rds:FunctionalSystem, rdfs:label, \"Functional System\") ,\n",
    "    ottr:Triple(rds:TechnicalSystem, rdfs:label, \"Technical System\") ,\n",
    "    ottr:Triple(rds:ComponentSystem, rdfs:label, \"Component System\") ,\n",
    "    ottr:Triple(rds:Site, rdfs:label, \"Site\") ,\n",
    "} .\n",
    "\n",
    "tpl:RDSFunctionalSystemType[?URI, ?Name, ??Description, ?Code] :: {\n",
    "    tpl:RDSSystemType(?URI, ?Name, ?Description, ?Code, rds:FunctionalSystem)\n",
    "} .\n",
    "tpl:RDSTechnicalSystemType[?URI, ?Name, ??Description, ?Code] :: {\n",
    "    tpl:RDSSystemType(?URI, ?Name, ?Description, ?Code, rds:TechnicalSystem)\n",
    "} .\n",
    "tpl:RDSComponentSystemType[?URI, ?Name, ??Description, ?Code] :: {\n",
    "    tpl:RDSSystemType(?URI, ?Name, ?Description, ?Code, rds:ComponentSystem)\n",
    "} .\n",
    "\n",
    "tpl:RDSSystemType[?URI, ?Name, ??Description, ?Code, ?Level] :: {\n",
    "    ottr:Triple(?URI, rdfs:label, ?Name),\n",
    "    ottr:Triple(?URI, rdfs:comment, ?Description),\n",
    "    ottr:Triple(?URI, rds:code, ?Code),\n",
    "    ottr:Triple(?URI, rdfs:subClassOf, ?Level)\n",
    "} .\n",
    "\n",
    "tpl:Site [?SiteURI, ?SiteName, ?Code] :: {\n",
    "    ottr:Triple(?SiteURI, rdfs:label, ?SiteName),\n",
    "    ottr:Triple(?SiteURI, a, rds:Site),\n",
    "    ottr:Triple(?SiteURI, rds:code, ?Code)\n",
    "    } .\n",
    "\n",
    "tpl:FunctionalAspect [?SourceURI, xsd:anyURI ?TargetURI,] :: {\n",
    "    ottr:Triple(?SourceURI, rds:functionalAspect, ?TargetURI)\n",
    "} .\n",
    "\n",
    "tpl:ProductAspect [?SourceURI, xsd:anyURI ?TargetURI,] :: {\n",
    "    ottr:Triple(?SourceURI, rds:productAspect, ?TargetURI)\n",
    "} .\n",
    "\n",
    "tpl:RDSSystem [?SystemURI, xsd:anyURI ?RDSType, ?Code, ?Label, ??Description] :: {\n",
    "    ottr:Triple(?SystemURI, a, ?RDSType),\n",
    "    ottr:Triple(?SystemURI, rds:code, ?Code),\n",
    "    ottr:Triple(?SystemURI, rdfs:label, ?Label),\n",
    "    ottr:Triple(?SystemURI, rdfs:comment, ?Description)\n",
    "} .\n",
    "\n",
    "tpl:StaticProperty [?ParentURI, ?ValueNodeURI, ?Label, ?Value] :: {\n",
    "    ottr:Triple(?ParentURI, ct:hasStaticProperty, ?ValueNodeURI),\n",
    "    ottr:Triple(?ValueNodeURI, rdfs:label, ?Label),\n",
    "    ottr:Triple(?ValueNodeURI, ct:hasStaticValue, ?Value)\n",
    "} .\n",
    "\n",
    "tpl:SolarTimeseries [?ParentURI, ?TimeseriesURI, ?Name, ?ExternalId, ?Datatype, ?Resource, ?Description, ?Unit, ??Aggregation] :: {\n",
    "    tpl:Timeseries(?ParentURI, ?TimeseriesURI, ?Name, ?ExternalId, ?Datatype, ?Resource),\n",
    "    ottr:Triple(?TimeseriesURI, rds:unit, ?Unit),\n",
    "    ottr:Triple(?TimeseriesURI, rdfs:comment, ?Description),\n",
    "    ottr:Triple(?TimeseriesURI, rds:aggregation, ?Aggregation),\n",
    "} .\n",
    "\n",
    "tpl:Timeseries [?ParentURI, ?TimeseriesURI, ?Label, ?ExternalId, xsd:anyURI ?Datatype, ?Resource] :: {\n",
    "    ottr:Triple(?ParentURI, ct:hasTimeseries, ?TimeseriesURI),\n",
    "    ottr:Triple(?TimeseriesURI, ct:hasExternalId, ?ExternalId),\n",
    "    ottr:Triple(?TimeseriesURI, ct:hasDatatype, ?Datatype),\n",
    "    ottr:Triple(?TimeseriesURI, rdfs:label, ?Label),\n",
    "    ottr:Triple(?TimeseriesURI, ct:hasResource, ?Resource)\n",
    "} .\n",
    "\"\"\""
   ]
  },
  {
   "cell_type": "markdown",
   "metadata": {},
   "source": [
    "### We instantiate a mapping object with our templates, and instantiate the first template, which does not need any arguments"
   ]
  },
  {
   "cell_type": "code",
   "execution_count": null,
   "metadata": {},
   "outputs": [],
   "source": [
    "m = Mapping([mapping_doc])\n",
    "m.expand(\"tpl:Types\")"
   ]
  },
  {
   "cell_type": "markdown",
   "metadata": {},
   "source": [
    "The following image displays the Site breakdown according to the functional aspect:\n",
    "\n",
    "- Site\n",
    "    - Block 1 (e.g. A1)\n",
    "        - Generator 1 (e.g. RG1)\n",
    "                - Inverter 1 (e.g. TBB1)\n",
    "                - String 1 (e.g. RG1)\n",
    "                - String 2 (e.g. RG2)\n",
    "\n",
    "The image cannot be included in this public version of the notebook. \n",
    "\n",
    "![Alt text](function_aspect.png \"a title\")"
   ]
  },
  {
   "cell_type": "markdown",
   "metadata": {},
   "source": [
    "### We load some functional system types from a CSV and process them slightly"
   ]
  },
  {
   "cell_type": "code",
   "execution_count": null,
   "metadata": {},
   "outputs": [],
   "source": [
    "functional_systems = pl.scan_csv(\"functional_systems.csv\")\n",
    "functional_systems = functional_systems.with_columns([\n",
    "    (rds + pl.col(\"Code\")).alias(\"URI\"),\n",
    "    pl.col(\"Description\").str.replace_all(\"\\n\", \" \", literal=True).str.replace_all(\"\\\"\", \"\", literal=True)\n",
    "]).collect()\n",
    "functional_systems"
   ]
  },
  {
   "cell_type": "markdown",
   "metadata": {},
   "source": [
    "### Add the functional system types to the graph"
   ]
  },
  {
   "cell_type": "code",
   "execution_count": null,
   "metadata": {},
   "outputs": [],
   "source": [
    "m.expand(\"tpl:RDSFunctionalSystemType\", functional_systems, [\"URI\"])"
   ]
  },
  {
   "cell_type": "markdown",
   "metadata": {},
   "source": [
    "### Just checking that the functional system types are in the graph"
   ]
  },
  {
   "cell_type": "code",
   "execution_count": null,
   "metadata": {},
   "outputs": [],
   "source": [
    "fs_qres = m.query(\"\"\"\n",
    "PREFIX rdfs: <http://www.w3.org/2000/01/rdf-schema#> \n",
    "PREFIX rds: <https://github.com/DataTreehouse/maplib_workshop/rds_power#> \n",
    "SELECT ?system ?code ?name WHERE {\n",
    "    ?system rdfs:subClassOf rds:FunctionalSystem .\n",
    "    ?system rds:code ?code .\n",
    "    ?system rdfs:label ?name .\n",
    "}\n",
    "\"\"\")\n",
    "fs_qres"
   ]
  },
  {
   "cell_type": "markdown",
   "metadata": {},
   "source": [
    "### We could add an assert here"
   ]
  },
  {
   "cell_type": "code",
   "execution_count": null,
   "metadata": {},
   "outputs": [],
   "source": [
    "assert set(fs_qres[\"code\"]) == {\"A\", \"F\", \"B\"}"
   ]
  },
  {
   "cell_type": "markdown",
   "metadata": {},
   "source": [
    "### We load some technical system types from a CSV and process them slightly"
   ]
  },
  {
   "cell_type": "code",
   "execution_count": null,
   "metadata": {},
   "outputs": [],
   "source": [
    "technical_systems = pl.scan_csv(\"technical_systems.csv\")\n",
    "technical_systems = technical_systems.with_columns([\n",
    "    (rds + pl.col(\"Code\")).alias(\"URI\"),\n",
    "    pl.col(\"Description\").str.replace_all(\"\\n\", \" \", literal=True).str.replace_all(\"\\\"\", \"\", literal=True)\n",
    "]).collect()\n",
    "technical_systems.head(3)"
   ]
  },
  {
   "cell_type": "markdown",
   "metadata": {},
   "source": [
    "### Now we can add the technical system types to the graph aswell"
   ]
  },
  {
   "cell_type": "code",
   "execution_count": null,
   "metadata": {},
   "outputs": [],
   "source": [
    "m.expand(\"tpl:RDSTechnicalSystemType\", technical_systems, [\"URI\"])"
   ]
  },
  {
   "cell_type": "code",
   "execution_count": null,
   "metadata": {},
   "outputs": [],
   "source": [
    "### We load some component system types from a CSV and process them slightly"
   ]
  },
  {
   "cell_type": "code",
   "execution_count": null,
   "metadata": {},
   "outputs": [],
   "source": [
    "component_systems = pl.scan_csv(\"component_systems.csv\")\n",
    "component_systems = component_systems.with_columns([\n",
    "    (rds + pl.col(\"Code\")).alias(\"URI\"),\n",
    "    pl.col(\"Description\").str.replace_all(\"\\n\", \" \", literal=True).str.replace_all(\"\\\"\", \"\", literal=True)\n",
    "]).collect()\n",
    "component_systems.head(3)"
   ]
  },
  {
   "cell_type": "markdown",
   "metadata": {},
   "source": [
    "### Finally, we can add the component system types to the graph"
   ]
  },
  {
   "cell_type": "code",
   "execution_count": null,
   "metadata": {},
   "outputs": [],
   "source": [
    "m.expand(\"tpl:RDSComponentSystemType\", component_systems, [\"URI\"])"
   ]
  },
  {
   "cell_type": "markdown",
   "metadata": {},
   "source": [
    "### Now we load several tables with the different sites and systems, and how they are connected. Ordinarily these come from a source system such as the maintenance system or a SCADA system."
   ]
  },
  {
   "cell_type": "code",
   "execution_count": null,
   "metadata": {
    "ExecuteTime": {
     "end_time": "2023-06-26T15:07:43.245362622Z",
     "start_time": "2023-06-26T15:07:43.235408447Z"
    }
   },
   "outputs": [],
   "source": [
    "sites = pl.scan_parquet(\"solar/sites.parquet\").collect()\n",
    "blocks = pl.scan_parquet(\"solar/blocks.parquet\").collect()\n",
    "site_has_block = pl.scan_parquet(\"solar/site_has_block.parquet\").collect()\n",
    "gens = pl.scan_parquet(\"solar/generators.parquet\").collect()\n",
    "block_has_gen = pl.scan_parquet(\"solar/block_has_gen.parquet\").collect()\n",
    "invs = pl.scan_parquet(\"solar/inverters.parquet\").collect()\n",
    "gen_has_inv = pl.scan_parquet(\"solar/gen_has_inv.parquet\").collect()\n",
    "strings = pl.scan_parquet(\"solar/strings.parquet\").collect()\n",
    "gen_has_string = pl.scan_parquet(\"solar/gen_has_string.parquet\").collect()\n",
    "inv_timeseries = pl.scan_parquet(\"solar/inverter_timeseries.parquet\").collect()\n",
    "weather_timeseries = pl.scan_parquet(\"solar/weather_timeseries.parquet\").collect()"
   ]
  },
  {
   "cell_type": "markdown",
   "metadata": {},
   "source": [
    "### Just a peek inside the sites table, to see that these are entirely made up"
   ]
  },
  {
   "cell_type": "code",
   "execution_count": null,
   "metadata": {},
   "outputs": [],
   "source": [
    "sites"
   ]
  },
  {
   "cell_type": "markdown",
   "metadata": {},
   "source": [
    "### Add sites, blocks, and relationship between sites and blocks to the graph"
   ]
  },
  {
   "cell_type": "code",
   "execution_count": null,
   "metadata": {},
   "outputs": [],
   "source": [
    "m.expand(\"tpl:Site\", sites, [\"SiteURI\"])\n",
    "m.expand(\"tpl:RDSSystem\", blocks, [\"SystemURI\"])\n",
    "m.expand(\"tpl:FunctionalAspect\", site_has_block)"
   ]
  },
  {
   "cell_type": "markdown",
   "metadata": {},
   "source": [
    "### Now we can check that the sites have blocks, and that these are of the appropriate type "
   ]
  },
  {
   "cell_type": "code",
   "execution_count": null,
   "metadata": {
    "ExecuteTime": {
     "end_time": "2023-06-26T15:12:33.606192145Z",
     "start_time": "2023-06-26T15:12:33.500508285Z"
    }
   },
   "outputs": [],
   "source": [
    "block_qres = m.query(\"\"\"\n",
    "PREFIX rdfs: <http://www.w3.org/2000/01/rdf-schema#> \n",
    "PREFIX rds: <https://github.com/DataTreehouse/maplib_workshop/rds_power#> \n",
    "SELECT ?site ?site_name ?block ?block_name\n",
    "WHERE {\n",
    "    ?site a rds:Site .\n",
    "    ?site rdfs:label ?site_name .\n",
    "    ?site rds:functionalAspect ?block .\n",
    "    ?block a rds:A .\n",
    "    ?block rdfs:label ?block_name .\n",
    "} \n",
    "ORDER BY ?site_name ?block_name\n",
    "\"\"\")\n",
    "block_qres"
   ]
  },
  {
   "cell_type": "markdown",
   "metadata": {},
   "source": [
    "### Next, we add generators, inverters, strings and their relationships."
   ]
  },
  {
   "cell_type": "code",
   "execution_count": null,
   "metadata": {},
   "outputs": [],
   "source": [
    "m.expand(\"tpl:RDSSystem\", gens, [\"SystemURI\"])\n",
    "m.expand(\"tpl:FunctionalAspect\", block_has_gen)\n",
    "m.expand(\"tpl:RDSSystem\", invs, [\"SystemURI\"])\n",
    "m.expand(\"tpl:FunctionalAspect\", gen_has_inv)\n",
    "m.expand(\"tpl:RDSSystem\", strings, [\"SystemURI\"])\n",
    "m.expand(\"tpl:FunctionalAspect\", gen_has_string)"
   ]
  },
  {
   "cell_type": "markdown",
   "metadata": {},
   "source": [
    "### We perform a similar check as above, but this time we just count the strings for each site"
   ]
  },
  {
   "cell_type": "code",
   "execution_count": null,
   "metadata": {},
   "outputs": [],
   "source": [
    "string_qres = m.query(\"\"\"\n",
    "PREFIX rdfs: <http://www.w3.org/2000/01/rdf-schema#> \n",
    "PREFIX rds: <https://github.com/DataTreehouse/maplib_workshop/rds_power#> \n",
    "SELECT ?sitename (count(?string) as ?string_count)\n",
    "WHERE {\n",
    "    ?site a rds:Site.\n",
    "    ?site rdfs:label ?sitename .\n",
    "    ?site rds:functionalAspect ?block .\n",
    "    ?block a rds:A .\n",
    "    ?block rds:functionalAspect ?gen .\n",
    "    ?gen a rds:RG .\n",
    "    ?gen rds:functionalAspect ?string .\n",
    "    ?string a rds:RG\n",
    "} GROUP BY ?sitename\n",
    "\"\"\")\n",
    "string_qres"
   ]
  },
  {
   "cell_type": "code",
   "execution_count": null,
   "metadata": {},
   "outputs": [],
   "source": [
    "assert (string_qres[\"string_count\"] == 350).all()"
   ]
  },
  {
   "cell_type": "markdown",
   "metadata": {
    "scrolled": true
   },
   "source": [
    "### Finally, we attach the identifiers of some time series to the graph, which will lead to the next part of the demo"
   ]
  },
  {
   "cell_type": "code",
   "execution_count": null,
   "metadata": {},
   "outputs": [],
   "source": [
    "inv_timeseries.head(3)"
   ]
  },
  {
   "cell_type": "code",
   "execution_count": null,
   "metadata": {},
   "outputs": [],
   "source": [
    "m.expand(\"tpl:SolarTimeseries\", inv_timeseries, [\"TimeseriesURI\"])"
   ]
  },
  {
   "cell_type": "code",
   "execution_count": null,
   "metadata": {},
   "outputs": [],
   "source": [
    "m.expand(\"tpl:SolarTimeseries\", weather_timeseries, [\"TimeseriesURI\"])"
   ]
  },
  {
   "cell_type": "markdown",
   "metadata": {},
   "source": [
    "### We write the resulting set of triples"
   ]
  },
  {
   "cell_type": "code",
   "execution_count": null,
   "metadata": {},
   "outputs": [],
   "source": [
    "m.write_ntriples(\"solar_model.nt\")"
   ]
  },
  {
   "cell_type": "code",
   "execution_count": null,
   "metadata": {},
   "outputs": [],
   "source": []
  }
 ],
 "metadata": {
  "kernelspec": {
   "display_name": "Python 3 (ipykernel)",
   "language": "python",
   "name": "python3"
  },
  "language_info": {
   "codemirror_mode": {
    "name": "ipython",
    "version": 3
   },
   "file_extension": ".py",
   "mimetype": "text/x-python",
   "name": "python",
   "nbconvert_exporter": "python",
   "pygments_lexer": "ipython3",
   "version": "3.10.13"
  }
 },
 "nbformat": 4,
 "nbformat_minor": 1
}
