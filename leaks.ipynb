{
 "cells": [
  {
   "cell_type": "code",
   "execution_count": 321,
   "id": "initial_id",
   "metadata": {},
   "outputs": [],
   "source": [
    "from maplib import Mapping\n",
    "import polars as pl\n",
    "pl.Config.set_fmt_str_lengths(300)\n",
    "from datetime import datetime"
   ]
  },
  {
   "cell_type": "code",
   "execution_count": 322,
   "id": "b746fe56",
   "metadata": {},
   "outputs": [],
   "source": [
    "date_format_1 = \"%d-%b-%Y\"\n",
    "date_format_2 = \"%b %d, %Y\" \n",
    "date_format_3 = \"%Y-%m-%d\"\n",
    "date_formats = [date_format_1, date_format_2, date_format_3]"
   ]
  },
  {
   "cell_type": "code",
   "execution_count": 323,
   "id": "14a1c7a5",
   "metadata": {},
   "outputs": [],
   "source": [
    "pan = \"https://github.com/DataTreehouse/maplib_workshop/pan#\""
   ]
  },
  {
   "cell_type": "code",
   "execution_count": 324,
   "id": "8eed3ae8",
   "metadata": {},
   "outputs": [],
   "source": [
    "def parse_dates(lf, colname, check=False):\n",
    "    new_cols = []\n",
    "    for (i,date_format) in enumerate(date_formats):\n",
    "        new_col = f\"{colname}{i}\"\n",
    "        new_cols.append(new_col)\n",
    "        lf = lf.with_columns(\n",
    "            pl.col(colname).str.to_date(format=date_format, strict=False).alias(new_col)\n",
    "        )\n",
    "    lf = lf.with_columns(\n",
    "        pl.coalesce(new_cols).alias(colname + \"_new\")\n",
    "    ).drop(new_cols)\n",
    "    if check:\n",
    "        df = lf.collect()\n",
    "        df = df.filter(pl.col(colname + \"_new\").is_null() & ~(pl.col(colname).is_null()))\n",
    "        if df.height > 0:\n",
    "            print(\"Unparsed dates:\")\n",
    "            print(df[colname])\n",
    "            assert False\n",
    "    lf = lf.drop(colname).with_columns(pl.col(colname + \"_new\").alias(colname)).drop(colname + \"_new\")\n",
    "    return lf"
   ]
  },
  {
   "cell_type": "code",
   "execution_count": 325,
   "id": "61f779fc",
   "metadata": {},
   "outputs": [],
   "source": [
    "def split_to_list_column(lf, colname, newname):\n",
    "    lf = lf.with_columns(pl.col(colname).str.split(\";\").alias(newname)).drop(colname)\n",
    "    return lf\n"
   ]
  },
  {
   "cell_type": "code",
   "execution_count": 326,
   "id": "b9945e44",
   "metadata": {},
   "outputs": [],
   "source": [
    "def create_node_id_uri(lf, node_id_col):\n",
    "    lf = lf.with_columns(\n",
    "        (\"https://github.com/DataTreehouse/maplib_benchmark/node_ids#\" + pl.col(node_id_col).cast(pl.Utf8)).alias(node_id_col))\n",
    "    return lf"
   ]
  },
  {
   "cell_type": "code",
   "execution_count": 327,
   "id": "22d56168",
   "metadata": {},
   "outputs": [],
   "source": [
    "def clean_string(lf, col):\n",
    "    lf = lf.with_columns(\n",
    "        pl.col(col).\n",
    "        str.replace_all(\"\\\"\", \"\", literal=True).\n",
    "        str.replace_all(\"\\n\", \" \", literal=True).\n",
    "        str.replace_all(\"\\\\\", \"\", literal=True).\n",
    "        str.replace_all(\"\\uFFFD\", \"\", literal=True).\n",
    "        str.replace_all(\"%\", \"\", literal=True)\n",
    "    )\n",
    "    return lf"
   ]
  },
  {
   "cell_type": "code",
   "execution_count": 328,
   "id": "6abd2e2e",
   "metadata": {},
   "outputs": [],
   "source": [
    "entities_lf = pl.scan_csv(\"offshoreleaks/nodes-entities.csv\")\n",
    "for date_col in [\"incorporation_date\", \"inactivation_date\", \"struck_off_date\", \"dorm_date\"]:\n",
    "    entities_lf = parse_dates(entities_lf, date_col, check=False)\n",
    "entities_lf = create_node_id_uri(entities_lf, \"node_id\")\n",
    "entities_lf = split_to_list_column(entities_lf, \"countries\", \"country\")\n",
    "entities_lf = clean_string(entities_lf, \"name\")\n",
    "entities_lf = entities_lf.select([\n",
    "    \"node_id\", \"name\", \"incorporation_date\", \"inactivation_date\", \"struck_off_date\", \"status\", \"country\", \"service_provider\"])"
   ]
  },
  {
   "cell_type": "code",
   "execution_count": 329,
   "id": "43ac54e4",
   "metadata": {},
   "outputs": [
    {
     "data": {
      "text/html": [
       "<div><style>\n",
       ".dataframe > thead > tr > th,\n",
       ".dataframe > tbody > tr > td {\n",
       "  text-align: right;\n",
       "}\n",
       "</style>\n",
       "<small>shape: (5, 8)</small><table border=\"1\" class=\"dataframe\"><thead><tr><th>node_id</th><th>name</th><th>incorporation_date</th><th>inactivation_date</th><th>struck_off_date</th><th>status</th><th>country</th><th>service_provider</th></tr><tr><td>str</td><td>str</td><td>date</td><td>date</td><td>date</td><td>str</td><td>list[str]</td><td>str</td></tr></thead><tbody><tr><td>&quot;https://github.com/DataTreehouse/maplib_benchmark/node_ids#10000001&quot;</td><td>&quot;TIANSHENG INDUSTRY AND TRADING CO., LTD.&quot;</td><td>2006-03-23</td><td>2013-02-18</td><td>2013-02-15</td><td>&quot;Defaulted&quot;</td><td>[&quot;Hong Kong&quot;]</td><td>&quot;Mossack Fonseca&quot;</td></tr><tr><td>&quot;https://github.com/DataTreehouse/maplib_benchmark/node_ids#10000002&quot;</td><td>&quot;NINGBO SUNRISE ENTERPRISES UNITED CO., LTD.&quot;</td><td>2006-03-27</td><td>2014-02-27</td><td>2014-02-15</td><td>&quot;Defaulted&quot;</td><td>[&quot;Hong Kong&quot;]</td><td>&quot;Mossack Fonseca&quot;</td></tr><tr><td>&quot;https://github.com/DataTreehouse/maplib_benchmark/node_ids#10000003&quot;</td><td>&quot;HOTFOCUS CO., LTD.&quot;</td><td>2006-01-10</td><td>2012-02-15</td><td>2012-02-15</td><td>&quot;Defaulted&quot;</td><td>[&quot;Hong Kong&quot;]</td><td>&quot;Mossack Fonseca&quot;</td></tr><tr><td>&quot;https://github.com/DataTreehouse/maplib_benchmark/node_ids#10000004&quot;</td><td>&quot;SKY-BLUE GIFTS &amp; TOYS CO., LTD.&quot;</td><td>2006-01-06</td><td>2009-02-16</td><td>2009-02-15</td><td>&quot;Defaulted&quot;</td><td>[&quot;Hong Kong&quot;]</td><td>&quot;Mossack Fonseca&quot;</td></tr><tr><td>&quot;https://github.com/DataTreehouse/maplib_benchmark/node_ids#10000005&quot;</td><td>&quot;FORTUNEMAKER INVESTMENTS CORPORATION&quot;</td><td>2006-04-19</td><td>2009-05-15</td><td>2008-02-15</td><td>&quot;Changed agent&quot;</td><td>[&quot;Hong Kong&quot;]</td><td>&quot;Mossack Fonseca&quot;</td></tr></tbody></table></div>"
      ],
      "text/plain": [
       "shape: (5, 8)\n",
       "┌───────────┬───────────┬────────────┬────────────┬────────────┬───────────┬──────────┬────────────┐\n",
       "│ node_id   ┆ name      ┆ incorporat ┆ inactivati ┆ struck_off ┆ status    ┆ country  ┆ service_pr │\n",
       "│ ---       ┆ ---       ┆ ion_date   ┆ on_date    ┆ _date      ┆ ---       ┆ ---      ┆ ovider     │\n",
       "│ str       ┆ str       ┆ ---        ┆ ---        ┆ ---        ┆ str       ┆ list[str ┆ ---        │\n",
       "│           ┆           ┆ date       ┆ date       ┆ date       ┆           ┆ ]        ┆ str        │\n",
       "╞═══════════╪═══════════╪════════════╪════════════╪════════════╪═══════════╪══════════╪════════════╡\n",
       "│ https://g ┆ TIANSHENG ┆ 2006-03-23 ┆ 2013-02-18 ┆ 2013-02-15 ┆ Defaulted ┆ [\"Hong   ┆ Mossack    │\n",
       "│ ithub.com ┆ INDUSTRY  ┆            ┆            ┆            ┆           ┆ Kong\"]   ┆ Fonseca    │\n",
       "│ /DataTree ┆ AND       ┆            ┆            ┆            ┆           ┆          ┆            │\n",
       "│ house/map ┆ TRADING   ┆            ┆            ┆            ┆           ┆          ┆            │\n",
       "│ lib_bench ┆ CO., LTD. ┆            ┆            ┆            ┆           ┆          ┆            │\n",
       "│ mark/node ┆           ┆            ┆            ┆            ┆           ┆          ┆            │\n",
       "│ _ids#1000 ┆           ┆            ┆            ┆            ┆           ┆          ┆            │\n",
       "│ 0001      ┆           ┆            ┆            ┆            ┆           ┆          ┆            │\n",
       "│ https://g ┆ NINGBO    ┆ 2006-03-27 ┆ 2014-02-27 ┆ 2014-02-15 ┆ Defaulted ┆ [\"Hong   ┆ Mossack    │\n",
       "│ ithub.com ┆ SUNRISE   ┆            ┆            ┆            ┆           ┆ Kong\"]   ┆ Fonseca    │\n",
       "│ /DataTree ┆ ENTERPRIS ┆            ┆            ┆            ┆           ┆          ┆            │\n",
       "│ house/map ┆ ES UNITED ┆            ┆            ┆            ┆           ┆          ┆            │\n",
       "│ lib_bench ┆ CO., LTD. ┆            ┆            ┆            ┆           ┆          ┆            │\n",
       "│ mark/node ┆           ┆            ┆            ┆            ┆           ┆          ┆            │\n",
       "│ _ids#1000 ┆           ┆            ┆            ┆            ┆           ┆          ┆            │\n",
       "│ 0002      ┆           ┆            ┆            ┆            ┆           ┆          ┆            │\n",
       "│ https://g ┆ HOTFOCUS  ┆ 2006-01-10 ┆ 2012-02-15 ┆ 2012-02-15 ┆ Defaulted ┆ [\"Hong   ┆ Mossack    │\n",
       "│ ithub.com ┆ CO., LTD. ┆            ┆            ┆            ┆           ┆ Kong\"]   ┆ Fonseca    │\n",
       "│ /DataTree ┆           ┆            ┆            ┆            ┆           ┆          ┆            │\n",
       "│ house/map ┆           ┆            ┆            ┆            ┆           ┆          ┆            │\n",
       "│ lib_bench ┆           ┆            ┆            ┆            ┆           ┆          ┆            │\n",
       "│ mark/node ┆           ┆            ┆            ┆            ┆           ┆          ┆            │\n",
       "│ _ids#1000 ┆           ┆            ┆            ┆            ┆           ┆          ┆            │\n",
       "│ 0003      ┆           ┆            ┆            ┆            ┆           ┆          ┆            │\n",
       "│ https://g ┆ SKY-BLUE  ┆ 2006-01-06 ┆ 2009-02-16 ┆ 2009-02-15 ┆ Defaulted ┆ [\"Hong   ┆ Mossack    │\n",
       "│ ithub.com ┆ GIFTS &   ┆            ┆            ┆            ┆           ┆ Kong\"]   ┆ Fonseca    │\n",
       "│ /DataTree ┆ TOYS CO., ┆            ┆            ┆            ┆           ┆          ┆            │\n",
       "│ house/map ┆ LTD.      ┆            ┆            ┆            ┆           ┆          ┆            │\n",
       "│ lib_bench ┆           ┆            ┆            ┆            ┆           ┆          ┆            │\n",
       "│ mark/node ┆           ┆            ┆            ┆            ┆           ┆          ┆            │\n",
       "│ _ids#1000 ┆           ┆            ┆            ┆            ┆           ┆          ┆            │\n",
       "│ 0004      ┆           ┆            ┆            ┆            ┆           ┆          ┆            │\n",
       "│ https://g ┆ FORTUNEMA ┆ 2006-04-19 ┆ 2009-05-15 ┆ 2008-02-15 ┆ Changed   ┆ [\"Hong   ┆ Mossack    │\n",
       "│ ithub.com ┆ KER INVES ┆            ┆            ┆            ┆ agent     ┆ Kong\"]   ┆ Fonseca    │\n",
       "│ /DataTree ┆ TMENTS    ┆            ┆            ┆            ┆           ┆          ┆            │\n",
       "│ house/map ┆ CORPORATI ┆            ┆            ┆            ┆           ┆          ┆            │\n",
       "│ lib_bench ┆ ON        ┆            ┆            ┆            ┆           ┆          ┆            │\n",
       "│ mark/node ┆           ┆            ┆            ┆            ┆           ┆          ┆            │\n",
       "│ _ids#1000 ┆           ┆            ┆            ┆            ┆           ┆          ┆            │\n",
       "│ 0005      ┆           ┆            ┆            ┆            ┆           ┆          ┆            │\n",
       "└───────────┴───────────┴────────────┴────────────┴────────────┴───────────┴──────────┴────────────┘"
      ]
     },
     "execution_count": 329,
     "metadata": {},
     "output_type": "execute_result"
    }
   ],
   "source": [
    "entities_df = entities_lf.collect()\n",
    "entities_df.head(5)"
   ]
  },
  {
   "cell_type": "code",
   "execution_count": 330,
   "id": "d0d70748",
   "metadata": {},
   "outputs": [],
   "source": [
    "addresses_lf = pl.scan_csv(\"offshoreleaks/nodes-addresses.csv\")\n",
    "addresses_lf = create_node_id_uri(addresses_lf, \"node_id\")\n",
    "addresses_lf = split_to_list_column(addresses_lf, \"countries\", \"country\")\n",
    "addresses_lf = clean_string(addresses_lf, \"address\")\n",
    "addresses_lf = addresses_lf.select([\"node_id\", \"address\", \"country\"])"
   ]
  },
  {
   "cell_type": "code",
   "execution_count": 331,
   "id": "0463d244",
   "metadata": {},
   "outputs": [
    {
     "data": {
      "text/html": [
       "<div><style>\n",
       ".dataframe > thead > tr > th,\n",
       ".dataframe > tbody > tr > td {\n",
       "  text-align: right;\n",
       "}\n",
       "</style>\n",
       "<small>shape: (5, 3)</small><table border=\"1\" class=\"dataframe\"><thead><tr><th>node_id</th><th>address</th><th>country</th></tr><tr><td>str</td><td>str</td><td>list[str]</td></tr></thead><tbody><tr><td>&quot;https://github.com/DataTreehouse/maplib_benchmark/node_ids#24000001&quot;</td><td>&quot;ANNEX FREDERICK &amp; SHIRLEY STS, P.O. BOX N-4805, NASSAU, BAHAMAS&quot;</td><td>[&quot;Bahamas&quot;]</td></tr><tr><td>&quot;https://github.com/DataTreehouse/maplib_benchmark/node_ids#24000002&quot;</td><td>&quot;SUITE E-2,UNION COURT BUILDING, P.O. BOX N-8188, NASSAU, BAHAMAS&quot;</td><td>[&quot;Bahamas&quot;]</td></tr><tr><td>&quot;https://github.com/DataTreehouse/maplib_benchmark/node_ids#24000003&quot;</td><td>&quot;LYFORD CAY HOUSE, LYFORD CAY, P.O. BOX N-7785, NASSAU, BAHAMAS&quot;</td><td>[&quot;Bahamas&quot;]</td></tr><tr><td>&quot;https://github.com/DataTreehouse/maplib_benchmark/node_ids#24000004&quot;</td><td>&quot;P.O. BOX N-3708 BAHAMAS FINANCIAL CENTRE, P.O. BOX N-3708 SHIRLEY &amp; CHARLOTTE STS, NASSAU, BAHAMAS&quot;</td><td>[&quot;Bahamas&quot;]</td></tr><tr><td>&quot;https://github.com/DataTreehouse/maplib_benchmark/node_ids#24000005&quot;</td><td>&quot;LYFORD CAY HOUSE, 3RD FLOOR, LYFORD CAY, P.O. BOX N-3024, NASSAU, BAHAMAS&quot;</td><td>[&quot;Bahamas&quot;]</td></tr></tbody></table></div>"
      ],
      "text/plain": [
       "shape: (5, 3)\n",
       "┌──────────────────────────────────────────┬─────────────────────────────────────────┬─────────────┐\n",
       "│ node_id                                  ┆ address                                 ┆ country     │\n",
       "│ ---                                      ┆ ---                                     ┆ ---         │\n",
       "│ str                                      ┆ str                                     ┆ list[str]   │\n",
       "╞══════════════════════════════════════════╪═════════════════════════════════════════╪═════════════╡\n",
       "│ https://github.com/DataTreehouse/maplib_ ┆ ANNEX FREDERICK & SHIRLEY STS, P.O. BOX ┆ [\"Bahamas\"] │\n",
       "│ benchmark/node_ids#24000001              ┆ N-4805, NASSAU, BAHAMAS                 ┆             │\n",
       "│ https://github.com/DataTreehouse/maplib_ ┆ SUITE E-2,UNION COURT BUILDING, P.O.    ┆ [\"Bahamas\"] │\n",
       "│ benchmark/node_ids#24000002              ┆ BOX N-8188, NASSAU, BAHAMAS             ┆             │\n",
       "│ https://github.com/DataTreehouse/maplib_ ┆ LYFORD CAY HOUSE, LYFORD CAY, P.O. BOX  ┆ [\"Bahamas\"] │\n",
       "│ benchmark/node_ids#24000003              ┆ N-7785, NASSAU, BAHAMAS                 ┆             │\n",
       "│ https://github.com/DataTreehouse/maplib_ ┆ P.O. BOX N-3708 BAHAMAS FINANCIAL       ┆ [\"Bahamas\"] │\n",
       "│ benchmark/node_ids#24000004              ┆ CENTRE, P.O. BOX N-3708 SHIRLEY &       ┆             │\n",
       "│                                          ┆ CHARLOTTE STS, NASSAU, BAHAMAS          ┆             │\n",
       "│ https://github.com/DataTreehouse/maplib_ ┆ LYFORD CAY HOUSE, 3RD FLOOR, LYFORD     ┆ [\"Bahamas\"] │\n",
       "│ benchmark/node_ids#24000005              ┆ CAY, P.O. BOX N-3024, NASSAU, BAHAMAS   ┆             │\n",
       "└──────────────────────────────────────────┴─────────────────────────────────────────┴─────────────┘"
      ]
     },
     "execution_count": 331,
     "metadata": {},
     "output_type": "execute_result"
    }
   ],
   "source": [
    "addresses_df = addresses_lf.collect()\n",
    "addresses_df.head(5)"
   ]
  },
  {
   "cell_type": "code",
   "execution_count": 332,
   "id": "d15598ac",
   "metadata": {},
   "outputs": [],
   "source": [
    "intermediaries_lf = pl.scan_csv(\"offshoreleaks/nodes-intermediaries.csv\", dtypes={\"internal_id\":pl.Utf8})\n",
    "intermediaries_lf = create_node_id_uri(intermediaries_lf, \"node_id\")\n",
    "intermediaries_lf = split_to_list_column(intermediaries_lf, \"countries\", \"country\")\n",
    "intermediaries_lf = clean_string(intermediaries_lf, \"name\")\n",
    "intermediaries_lf = intermediaries_lf.select([\"node_id\", \"name\", \"status\", \"country\"])"
   ]
  },
  {
   "cell_type": "code",
   "execution_count": 333,
   "id": "e814a8e3",
   "metadata": {},
   "outputs": [
    {
     "data": {
      "text/html": [
       "<div><style>\n",
       ".dataframe > thead > tr > th,\n",
       ".dataframe > tbody > tr > td {\n",
       "  text-align: right;\n",
       "}\n",
       "</style>\n",
       "<small>shape: (5, 4)</small><table border=\"1\" class=\"dataframe\"><thead><tr><th>node_id</th><th>name</th><th>status</th><th>country</th></tr><tr><td>str</td><td>str</td><td>str</td><td>list[str]</td></tr></thead><tbody><tr><td>&quot;https://github.com/DataTreehouse/maplib_benchmark/node_ids#11000001&quot;</td><td>&quot;MICHAEL PAPAGEORGE, MR.&quot;</td><td>&quot;ACTIVE&quot;</td><td>[&quot;South Africa&quot;]</td></tr><tr><td>&quot;https://github.com/DataTreehouse/maplib_benchmark/node_ids#11000002&quot;</td><td>&quot;CORFIDUCIA ANSTALT&quot;</td><td>&quot;ACTIVE&quot;</td><td>[&quot;Liechtenstein&quot;]</td></tr><tr><td>&quot;https://github.com/DataTreehouse/maplib_benchmark/node_ids#11000003&quot;</td><td>&quot;DAVID, RONALD&quot;</td><td>&quot;SUSPENDED&quot;</td><td>[&quot;Monaco&quot;]</td></tr><tr><td>&quot;https://github.com/DataTreehouse/maplib_benchmark/node_ids#11000004&quot;</td><td>&quot;DE  BOUTSELIS, JEAN-PIERRE&quot;</td><td>&quot;SUSPENDED&quot;</td><td>[&quot;Belgium&quot;]</td></tr><tr><td>&quot;https://github.com/DataTreehouse/maplib_benchmark/node_ids#11000005&quot;</td><td>&quot;THE LEVANT LAWYERS (TLL)&quot;</td><td>&quot;ACTIVE&quot;</td><td>[&quot;Lebanon&quot;]</td></tr></tbody></table></div>"
      ],
      "text/plain": [
       "shape: (5, 4)\n",
       "┌─────────────────────────────────────┬────────────────────────────┬───────────┬───────────────────┐\n",
       "│ node_id                             ┆ name                       ┆ status    ┆ country           │\n",
       "│ ---                                 ┆ ---                        ┆ ---       ┆ ---               │\n",
       "│ str                                 ┆ str                        ┆ str       ┆ list[str]         │\n",
       "╞═════════════════════════════════════╪════════════════════════════╪═══════════╪═══════════════════╡\n",
       "│ https://github.com/DataTreehouse/ma ┆ MICHAEL PAPAGEORGE, MR.    ┆ ACTIVE    ┆ [\"South Africa\"]  │\n",
       "│ plib_benchmark/node_ids#11000001    ┆                            ┆           ┆                   │\n",
       "│ https://github.com/DataTreehouse/ma ┆ CORFIDUCIA ANSTALT         ┆ ACTIVE    ┆ [\"Liechtenstein\"] │\n",
       "│ plib_benchmark/node_ids#11000002    ┆                            ┆           ┆                   │\n",
       "│ https://github.com/DataTreehouse/ma ┆ DAVID, RONALD              ┆ SUSPENDED ┆ [\"Monaco\"]        │\n",
       "│ plib_benchmark/node_ids#11000003    ┆                            ┆           ┆                   │\n",
       "│ https://github.com/DataTreehouse/ma ┆ DE  BOUTSELIS, JEAN-PIERRE ┆ SUSPENDED ┆ [\"Belgium\"]       │\n",
       "│ plib_benchmark/node_ids#11000004    ┆                            ┆           ┆                   │\n",
       "│ https://github.com/DataTreehouse/ma ┆ THE LEVANT LAWYERS (TLL)   ┆ ACTIVE    ┆ [\"Lebanon\"]       │\n",
       "│ plib_benchmark/node_ids#11000005    ┆                            ┆           ┆                   │\n",
       "└─────────────────────────────────────┴────────────────────────────┴───────────┴───────────────────┘"
      ]
     },
     "execution_count": 333,
     "metadata": {},
     "output_type": "execute_result"
    }
   ],
   "source": [
    "intermediaries_df = intermediaries_lf.collect()\n",
    "intermediaries_df.head(5)"
   ]
  },
  {
   "cell_type": "code",
   "execution_count": 334,
   "id": "c34f67e7",
   "metadata": {},
   "outputs": [],
   "source": [
    "officers_lf = pl.scan_csv(\"offshoreleaks/nodes-officers.csv\", dtypes={\"internal_id\":pl.Utf8})\n",
    "officers_lf = split_to_list_column(officers_lf, \"countries\", \"country\")\n",
    "officers_lf = create_node_id_uri(officers_lf, \"node_id\")\n",
    "officers_lf = clean_string(officers_lf, \"name\")\n",
    "officers_lf = officers_lf.select([\"node_id\", \"name\", \"country\"])"
   ]
  },
  {
   "cell_type": "code",
   "execution_count": 335,
   "id": "89c03fbf",
   "metadata": {},
   "outputs": [
    {
     "data": {
      "text/html": [
       "<div><style>\n",
       ".dataframe > thead > tr > th,\n",
       ".dataframe > tbody > tr > td {\n",
       "  text-align: right;\n",
       "}\n",
       "</style>\n",
       "<small>shape: (5, 3)</small><table border=\"1\" class=\"dataframe\"><thead><tr><th>node_id</th><th>name</th><th>country</th></tr><tr><td>str</td><td>str</td><td>list[str]</td></tr></thead><tbody><tr><td>&quot;https://github.com/DataTreehouse/maplib_benchmark/node_ids#12000001&quot;</td><td>&quot;KIM SOO IN&quot;</td><td>[&quot;South Korea&quot;]</td></tr><tr><td>&quot;https://github.com/DataTreehouse/maplib_benchmark/node_ids#12000002&quot;</td><td>&quot;Tian Yuan&quot;</td><td>[&quot;China&quot;]</td></tr><tr><td>&quot;https://github.com/DataTreehouse/maplib_benchmark/node_ids#12000003&quot;</td><td>&quot;GREGORY JOHN SOLOMON&quot;</td><td>[&quot;Australia&quot;]</td></tr><tr><td>&quot;https://github.com/DataTreehouse/maplib_benchmark/node_ids#12000004&quot;</td><td>&quot;MATSUDA MASUMI&quot;</td><td>[&quot;Japan&quot;]</td></tr><tr><td>&quot;https://github.com/DataTreehouse/maplib_benchmark/node_ids#12000005&quot;</td><td>&quot;HO THUY NGA&quot;</td><td>[&quot;Viet Nam&quot;]</td></tr></tbody></table></div>"
      ],
      "text/plain": [
       "shape: (5, 3)\n",
       "┌─────────────────────────────────────────────────────────┬──────────────────────┬─────────────────┐\n",
       "│ node_id                                                 ┆ name                 ┆ country         │\n",
       "│ ---                                                     ┆ ---                  ┆ ---             │\n",
       "│ str                                                     ┆ str                  ┆ list[str]       │\n",
       "╞═════════════════════════════════════════════════════════╪══════════════════════╪═════════════════╡\n",
       "│ https://github.com/DataTreehouse/maplib_benchmark/node_ ┆ KIM SOO IN           ┆ [\"South Korea\"] │\n",
       "│ ids#12000001                                            ┆                      ┆                 │\n",
       "│ https://github.com/DataTreehouse/maplib_benchmark/node_ ┆ Tian Yuan            ┆ [\"China\"]       │\n",
       "│ ids#12000002                                            ┆                      ┆                 │\n",
       "│ https://github.com/DataTreehouse/maplib_benchmark/node_ ┆ GREGORY JOHN SOLOMON ┆ [\"Australia\"]   │\n",
       "│ ids#12000003                                            ┆                      ┆                 │\n",
       "│ https://github.com/DataTreehouse/maplib_benchmark/node_ ┆ MATSUDA MASUMI       ┆ [\"Japan\"]       │\n",
       "│ ids#12000004                                            ┆                      ┆                 │\n",
       "│ https://github.com/DataTreehouse/maplib_benchmark/node_ ┆ HO THUY NGA          ┆ [\"Viet Nam\"]    │\n",
       "│ ids#12000005                                            ┆                      ┆                 │\n",
       "└─────────────────────────────────────────────────────────┴──────────────────────┴─────────────────┘"
      ]
     },
     "execution_count": 335,
     "metadata": {},
     "output_type": "execute_result"
    }
   ],
   "source": [
    "officers_df = officers_lf.collect()\n",
    "officers_df.head(5)"
   ]
  },
  {
   "cell_type": "code",
   "execution_count": 336,
   "id": "143b1456",
   "metadata": {},
   "outputs": [],
   "source": [
    "others_lf = pl.scan_csv(\"offshoreleaks/nodes-others.csv\", dtypes={\"internal_id\":pl.Utf8})\n",
    "others_lf = split_to_list_column(others_lf, \"countries\", \"country\")\n",
    "others_lf = create_node_id_uri(others_lf, \"node_id\")\n",
    "others_lf = clean_string(others_lf,\"name\")\n",
    "others_lf = others_lf.select([\"node_id\", \"name\", \"country\"])"
   ]
  },
  {
   "cell_type": "code",
   "execution_count": 337,
   "id": "cb7ca886",
   "metadata": {},
   "outputs": [
    {
     "data": {
      "text/html": [
       "<div><style>\n",
       ".dataframe > thead > tr > th,\n",
       ".dataframe > tbody > tr > td {\n",
       "  text-align: right;\n",
       "}\n",
       "</style>\n",
       "<small>shape: (5, 3)</small><table border=\"1\" class=\"dataframe\"><thead><tr><th>node_id</th><th>name</th><th>country</th></tr><tr><td>str</td><td>str</td><td>list[str]</td></tr></thead><tbody><tr><td>&quot;https://github.com/DataTreehouse/maplib_benchmark/node_ids#85004929&quot;</td><td>&quot;ANTAM ENTERPRISES N.V.&quot;</td><td>null</td></tr><tr><td>&quot;https://github.com/DataTreehouse/maplib_benchmark/node_ids#85008443&quot;</td><td>&quot;DEVIATION N.V.&quot;</td><td>null</td></tr><tr><td>&quot;https://github.com/DataTreehouse/maplib_benchmark/node_ids#85008517&quot;</td><td>&quot;ARIAZI N.V.&quot;</td><td>null</td></tr><tr><td>&quot;https://github.com/DataTreehouse/maplib_benchmark/node_ids#85008542&quot;</td><td>&quot;FLAIRUBA N.V.&quot;</td><td>null</td></tr><tr><td>&quot;https://github.com/DataTreehouse/maplib_benchmark/node_ids#85008583&quot;</td><td>&quot;S.L. ARUBA FISHERIES TRADING N.V.&quot;</td><td>null</td></tr></tbody></table></div>"
      ],
      "text/plain": [
       "shape: (5, 3)\n",
       "┌──────────────────────────────────────────────────┬───────────────────────────────────┬───────────┐\n",
       "│ node_id                                          ┆ name                              ┆ country   │\n",
       "│ ---                                              ┆ ---                               ┆ ---       │\n",
       "│ str                                              ┆ str                               ┆ list[str] │\n",
       "╞══════════════════════════════════════════════════╪═══════════════════════════════════╪═══════════╡\n",
       "│ https://github.com/DataTreehouse/maplib_benchmar ┆ ANTAM ENTERPRISES N.V.            ┆ null      │\n",
       "│ k/node_ids#85004929                              ┆                                   ┆           │\n",
       "│ https://github.com/DataTreehouse/maplib_benchmar ┆ DEVIATION N.V.                    ┆ null      │\n",
       "│ k/node_ids#85008443                              ┆                                   ┆           │\n",
       "│ https://github.com/DataTreehouse/maplib_benchmar ┆ ARIAZI N.V.                       ┆ null      │\n",
       "│ k/node_ids#85008517                              ┆                                   ┆           │\n",
       "│ https://github.com/DataTreehouse/maplib_benchmar ┆ FLAIRUBA N.V.                     ┆ null      │\n",
       "│ k/node_ids#85008542                              ┆                                   ┆           │\n",
       "│ https://github.com/DataTreehouse/maplib_benchmar ┆ S.L. ARUBA FISHERIES TRADING N.V. ┆ null      │\n",
       "│ k/node_ids#85008583                              ┆                                   ┆           │\n",
       "└──────────────────────────────────────────────────┴───────────────────────────────────┴───────────┘"
      ]
     },
     "execution_count": 337,
     "metadata": {},
     "output_type": "execute_result"
    }
   ],
   "source": [
    "others_df = others_lf.collect()\n",
    "others_df.head(5)"
   ]
  },
  {
   "cell_type": "code",
   "execution_count": 338,
   "id": "963f2e13",
   "metadata": {},
   "outputs": [],
   "source": [
    "relationships_lf = pl.scan_csv(\"offshoreleaks/relationships.csv\", dtypes={\"internal_id\":pl.Utf8})\n",
    "relationships_lf = create_node_id_uri(relationships_lf, \"node_id_start\")\n",
    "relationships_lf = create_node_id_uri(relationships_lf, \"node_id_end\")\n",
    "relationships_lf = relationships_lf.with_columns(\n",
    "    (pan + pl.col(\"rel_type\")).alias(\"rel_type\"),\n",
    ")\n",
    "relationships_lf = relationships_lf.select([\"node_id_start\", \"node_id_end\", \"rel_type\"])"
   ]
  },
  {
   "cell_type": "code",
   "execution_count": 339,
   "id": "7d1628dc",
   "metadata": {},
   "outputs": [
    {
     "data": {
      "text/html": [
       "<div><style>\n",
       ".dataframe > thead > tr > th,\n",
       ".dataframe > tbody > tr > td {\n",
       "  text-align: right;\n",
       "}\n",
       "</style>\n",
       "<small>shape: (5, 3)</small><table border=\"1\" class=\"dataframe\"><thead><tr><th>node_id_start</th><th>node_id_end</th><th>rel_type</th></tr><tr><td>str</td><td>str</td><td>str</td></tr></thead><tbody><tr><td>&quot;https://github.com/DataTreehouse/maplib_benchmark/node_ids#12160432&quot;</td><td>&quot;https://github.com/DataTreehouse/maplib_benchmark/node_ids#10000001&quot;</td><td>&quot;https://github.com/DataTreehouse/maplib_workshop/pan#officer_of&quot;</td></tr><tr><td>&quot;https://github.com/DataTreehouse/maplib_benchmark/node_ids#12203574&quot;</td><td>&quot;https://github.com/DataTreehouse/maplib_benchmark/node_ids#10000001&quot;</td><td>&quot;https://github.com/DataTreehouse/maplib_workshop/pan#officer_of&quot;</td></tr><tr><td>&quot;https://github.com/DataTreehouse/maplib_benchmark/node_ids#11001746&quot;</td><td>&quot;https://github.com/DataTreehouse/maplib_benchmark/node_ids#10000001&quot;</td><td>&quot;https://github.com/DataTreehouse/maplib_workshop/pan#intermediary_of&quot;</td></tr><tr><td>&quot;https://github.com/DataTreehouse/maplib_benchmark/node_ids#12204326&quot;</td><td>&quot;https://github.com/DataTreehouse/maplib_benchmark/node_ids#10000002&quot;</td><td>&quot;https://github.com/DataTreehouse/maplib_workshop/pan#officer_of&quot;</td></tr><tr><td>&quot;https://github.com/DataTreehouse/maplib_benchmark/node_ids#12160432&quot;</td><td>&quot;https://github.com/DataTreehouse/maplib_benchmark/node_ids#10000002&quot;</td><td>&quot;https://github.com/DataTreehouse/maplib_workshop/pan#officer_of&quot;</td></tr></tbody></table></div>"
      ],
      "text/plain": [
       "shape: (5, 3)\n",
       "┌────────────────────────────────┬────────────────────────────────┬────────────────────────────────┐\n",
       "│ node_id_start                  ┆ node_id_end                    ┆ rel_type                       │\n",
       "│ ---                            ┆ ---                            ┆ ---                            │\n",
       "│ str                            ┆ str                            ┆ str                            │\n",
       "╞════════════════════════════════╪════════════════════════════════╪════════════════════════════════╡\n",
       "│ https://github.com/DataTreehou ┆ https://github.com/DataTreehou ┆ https://github.com/DataTreehou │\n",
       "│ se/maplib_benchmark/node_ids#1 ┆ se/maplib_benchmark/node_ids#1 ┆ se/maplib_workshop/pan#officer │\n",
       "│ 2160432                        ┆ 0000001                        ┆ _of                            │\n",
       "│ https://github.com/DataTreehou ┆ https://github.com/DataTreehou ┆ https://github.com/DataTreehou │\n",
       "│ se/maplib_benchmark/node_ids#1 ┆ se/maplib_benchmark/node_ids#1 ┆ se/maplib_workshop/pan#officer │\n",
       "│ 2203574                        ┆ 0000001                        ┆ _of                            │\n",
       "│ https://github.com/DataTreehou ┆ https://github.com/DataTreehou ┆ https://github.com/DataTreehou │\n",
       "│ se/maplib_benchmark/node_ids#1 ┆ se/maplib_benchmark/node_ids#1 ┆ se/maplib_workshop/pan#interme │\n",
       "│ 1001746                        ┆ 0000001                        ┆ diary_of                       │\n",
       "│ https://github.com/DataTreehou ┆ https://github.com/DataTreehou ┆ https://github.com/DataTreehou │\n",
       "│ se/maplib_benchmark/node_ids#1 ┆ se/maplib_benchmark/node_ids#1 ┆ se/maplib_workshop/pan#officer │\n",
       "│ 2204326                        ┆ 0000002                        ┆ _of                            │\n",
       "│ https://github.com/DataTreehou ┆ https://github.com/DataTreehou ┆ https://github.com/DataTreehou │\n",
       "│ se/maplib_benchmark/node_ids#1 ┆ se/maplib_benchmark/node_ids#1 ┆ se/maplib_workshop/pan#officer │\n",
       "│ 2160432                        ┆ 0000002                        ┆ _of                            │\n",
       "└────────────────────────────────┴────────────────────────────────┴────────────────────────────────┘"
      ]
     },
     "execution_count": 339,
     "metadata": {},
     "output_type": "execute_result"
    }
   ],
   "source": [
    "relationships_df = relationships_lf.collect()\n",
    "relationships_df.head(5)"
   ]
  },
  {
   "cell_type": "code",
   "execution_count": 340,
   "id": "df97b582",
   "metadata": {},
   "outputs": [],
   "source": [
    "doc = \"\"\"\n",
    "@prefix pan:<https://github.com/DataTreehouse/maplib_workshop/pan#>.\n",
    "@prefix tpl:<https://github.com/DataTreehouse/maplib_workshop/templates#>.\n",
    "@prefix xsd:<http://www.w3.org/2001/XMLSchema#>.\n",
    "\n",
    "tpl:entities [ xsd:anyURI ?node_id, ??name, ??incorporation_date, \n",
    "               ??inactivation_date, ??struck_off_date, ??status, \n",
    "               ??country, ??service_provider ] :: {\n",
    "  tpl:named_node(?node_id, ?name, pan:Entity),\n",
    "  ottr:Triple(?node_id,pan:incorporation_date,?incorporation_date) ,\n",
    "  ottr:Triple(?node_id,pan:inactivation_date,?inactivation_date) ,\n",
    "  ottr:Triple(?node_id,pan:struck_off_date,?struck_off_date) ,\n",
    "  ottr:Triple(?node_id,pan:status,?status) ,\n",
    "  tpl:country(?node_id, ?country) ,\n",
    "  ottr:Triple(?node_id,pan:service_provider,?service_provider)\n",
    "} . \n",
    "\n",
    "tpl:addresses [ xsd:anyURI ?node_id, ??address, ??country ] :: {\n",
    "  tpl:node(?node_id, pan:Address),\n",
    "  ottr:Triple(?node_id, pan:address, ?address),\n",
    "  tpl:country(?node_id, ?country)\n",
    "} . \n",
    "\n",
    "tpl:intermediaries [ xsd:anyURI ?node_id, ??name, ??status, ??country ] :: {\n",
    "  tpl:named_node(?node_id, ?name, pan:Intermediary),\n",
    "  ottr:Triple(?node_id,pan:status,?status) ,\n",
    "  tpl:country(?node_id, ?country)\n",
    "} . \n",
    "\n",
    "tpl:officers [ xsd:anyURI ?node_id, ??name, ??country ] :: {\n",
    "  tpl:named_node(?node_id, ?name, pan:Officer),\n",
    "  tpl:country(?node_id, ?country)\n",
    "} . \n",
    "\n",
    "tpl:others [ xsd:anyURI ?node_id, ??name, ??country ] :: {\n",
    "  tpl:named_node(?node_id, ?name, pan:Other),\n",
    "  tpl:country(?node_id, ?country),\n",
    "} . \n",
    "\n",
    "tpl:relationships [xsd:anyURI ?node_id_start, xsd:anyURI ?node_id_end, ?rel_type] :: {\n",
    "    ottr:Triple(?node_id_start, ?rel_type, ?node_id_end),\n",
    "} .\n",
    "\n",
    "tpl:named_node [ ?node_id, ?name, ?type ] :: {\n",
    "  tpl:node(?node_id, ?type),\n",
    "  ottr:Triple(?node_id, rdfs:label, ?name),\n",
    "} .\n",
    "\n",
    "tpl:node [?node_id, ?type] :: {\n",
    "    ottr:Triple(?node_id, a, pan:Node),\n",
    "    ottr:Triple(?node_id, a, ?type),\n",
    "} . \n",
    "\n",
    "tpl:country [?node_id, ?country] :: {\n",
    "  cross | ottr:Triple(?node_id, pan:country, ++?country)\n",
    "} .\n",
    "\"\"\""
   ]
  },
  {
   "cell_type": "code",
   "execution_count": 341,
   "id": "875f29d1",
   "metadata": {},
   "outputs": [],
   "source": [
    "m = Mapping([doc])"
   ]
  },
  {
   "cell_type": "code",
   "execution_count": 342,
   "id": "4f9a5056",
   "metadata": {},
   "outputs": [],
   "source": [
    "m.expand(\"tpl:entities\", entities_df)"
   ]
  },
  {
   "cell_type": "code",
   "execution_count": 343,
   "id": "5a5b7e43",
   "metadata": {},
   "outputs": [],
   "source": [
    "m.expand(\"tpl:addresses\", addresses_df)"
   ]
  },
  {
   "cell_type": "code",
   "execution_count": 344,
   "id": "baa49c2e",
   "metadata": {},
   "outputs": [],
   "source": [
    "m.expand(\"tpl:intermediaries\", intermediaries_df)"
   ]
  },
  {
   "cell_type": "code",
   "execution_count": 345,
   "id": "9021a191",
   "metadata": {},
   "outputs": [],
   "source": [
    "m.expand(\"tpl:officers\", officers_df)"
   ]
  },
  {
   "cell_type": "code",
   "execution_count": 346,
   "id": "4f430f4b",
   "metadata": {},
   "outputs": [],
   "source": [
    "m.expand(\"tpl:others\", others_df)"
   ]
  },
  {
   "cell_type": "code",
   "execution_count": 347,
   "id": "bf2f7513",
   "metadata": {},
   "outputs": [],
   "source": [
    "m.expand(\"tpl:relationships\", relationships_df)"
   ]
  },
  {
   "cell_type": "code",
   "execution_count": 348,
   "id": "570bf619",
   "metadata": {},
   "outputs": [
    {
     "data": {
      "text/html": [
       "<div><style>\n",
       ".dataframe > thead > tr > th,\n",
       ".dataframe > tbody > tr > td {\n",
       "  text-align: right;\n",
       "}\n",
       "</style>\n",
       "<small>shape: (14,)</small><table border=\"1\" class=\"dataframe\"><thead><tr><th>rel_type</th></tr><tr><td>str</td></tr></thead><tbody><tr><td>&quot;https://github.com/DataTreehouse/maplib_workshop/pan#same_name_as&quot;</td></tr><tr><td>&quot;https://github.com/DataTreehouse/maplib_workshop/pan#intermediary_of&quot;</td></tr><tr><td>&quot;https://github.com/DataTreehouse/maplib_workshop/pan#same_id_as&quot;</td></tr><tr><td>&quot;https://github.com/DataTreehouse/maplib_workshop/pan#same_address_as&quot;</td></tr><tr><td>&quot;https://github.com/DataTreehouse/maplib_workshop/pan#underlying&quot;</td></tr><tr><td>&quot;https://github.com/DataTreehouse/maplib_workshop/pan#same_intermediary_as&quot;</td></tr><tr><td>&quot;https://github.com/DataTreehouse/maplib_workshop/pan#probably_same_officer_as&quot;</td></tr><tr><td>&quot;https://github.com/DataTreehouse/maplib_workshop/pan#same_company_as&quot;</td></tr><tr><td>&quot;https://github.com/DataTreehouse/maplib_workshop/pan#connected_to&quot;</td></tr><tr><td>&quot;https://github.com/DataTreehouse/maplib_workshop/pan#registered_address&quot;</td></tr><tr><td>&quot;https://github.com/DataTreehouse/maplib_workshop/pan#officer_of&quot;</td></tr><tr><td>&quot;https://github.com/DataTreehouse/maplib_workshop/pan#same_as&quot;</td></tr><tr><td>&quot;https://github.com/DataTreehouse/maplib_workshop/pan#similar&quot;</td></tr><tr><td>&quot;https://github.com/DataTreehouse/maplib_workshop/pan#similar_company_as&quot;</td></tr></tbody></table></div>"
      ],
      "text/plain": [
       "shape: (14,)\n",
       "Series: 'rel_type' [str]\n",
       "[\n",
       "\t\"https://github.com/DataTreehouse/maplib_workshop/pan#same_name_as\"\n",
       "\t\"https://github.com/DataTreehouse/maplib_workshop/pan#intermediary_of\"\n",
       "\t\"https://github.com/DataTreehouse/maplib_workshop/pan#same_id_as\"\n",
       "\t\"https://github.com/DataTreehouse/maplib_workshop/pan#same_address_as\"\n",
       "\t\"https://github.com/DataTreehouse/maplib_workshop/pan#underlying\"\n",
       "\t\"https://github.com/DataTreehouse/maplib_workshop/pan#same_intermediary_as\"\n",
       "\t\"https://github.com/DataTreehouse/maplib_workshop/pan#probably_same_officer_as\"\n",
       "\t\"https://github.com/DataTreehouse/maplib_workshop/pan#same_company_as\"\n",
       "\t\"https://github.com/DataTreehouse/maplib_workshop/pan#connected_to\"\n",
       "\t\"https://github.com/DataTreehouse/maplib_workshop/pan#registered_address\"\n",
       "\t\"https://github.com/DataTreehouse/maplib_workshop/pan#officer_of\"\n",
       "\t\"https://github.com/DataTreehouse/maplib_workshop/pan#same_as\"\n",
       "\t\"https://github.com/DataTreehouse/maplib_workshop/pan#similar\"\n",
       "\t\"https://github.com/DataTreehouse/maplib_workshop/pan#similar_company_as\"\n",
       "]"
      ]
     },
     "execution_count": 348,
     "metadata": {},
     "output_type": "execute_result"
    }
   ],
   "source": [
    "relationships_df[\"rel_type\"].unique()"
   ]
  },
  {
   "cell_type": "code",
   "execution_count": 349,
   "id": "63509206",
   "metadata": {},
   "outputs": [
    {
     "data": {
      "text/html": [
       "<div><style>\n",
       ".dataframe > thead > tr > th,\n",
       ".dataframe > tbody > tr > td {\n",
       "  text-align: right;\n",
       "}\n",
       "</style>\n",
       "<small>shape: (2_365, 2)</small><table border=\"1\" class=\"dataframe\"><thead><tr><th>oname</th><th>cname</th></tr><tr><td>str</td><td>str</td></tr></thead><tbody><tr><td>&quot;THE BEARER&quot;</td><td>&quot;WILDERNESS CORP.&quot;</td></tr><tr><td>&quot;THE BEARER&quot;</td><td>&quot;CAPITOL INC.&quot;</td></tr><tr><td>&quot;THE BEARER&quot;</td><td>&quot;CAPITOL INC.&quot;</td></tr><tr><td>&quot;PER GUNNAR RYMER AND ELSE RAGNHILD RYMER&quot;</td><td>&quot;CAPITOL INC.&quot;</td></tr><tr><td>&quot;THE BEARER&quot;</td><td>&quot;YAMUNA S.A.&quot;</td></tr><tr><td>&quot;Nilsen - Vegard&quot;</td><td>&quot;Securis Re II Ltd.&quot;</td></tr><tr><td>&quot;Odfjell - Abraham Severin&quot;</td><td>&quot;Anchor Holdings Ltd.&quot;</td></tr><tr><td>&quot;Odfjell - Elin&quot;</td><td>&quot;Anchor Holdings Ltd.&quot;</td></tr><tr><td>&quot;Hoff Norske Potetindustrier BA&quot;</td><td>&quot;Nordic Beverage International Ltd.&quot;</td></tr><tr><td>&quot;Trost-Nielsen - Thor&quot;</td><td>&quot;Nordic Beverage International Ltd.&quot;</td></tr><tr><td>&quot;Vold - Ole A N&quot;</td><td>&quot;Nordic Beverage International Ltd.&quot;</td></tr><tr><td>&quot;Saga Trading AS&quot;</td><td>&quot;Nordic Beverage International Ltd.&quot;</td></tr><tr><td>&hellip;</td><td>&hellip;</td></tr><tr><td>&quot;KLEIN MORTEN&quot;</td><td>&quot;Game Lounge Limited&quot;</td></tr><tr><td>&quot;LARS CHRISTIAN BEITNES&quot;</td><td>&quot;KETAN MIST EQUITIES LIMITED&quot;</td></tr><tr><td>&quot;SVEND ERIK ENGER&quot;</td><td>&quot;AKJ SIMPLON RICC LTD&quot;</td></tr><tr><td>&quot;LARS CHRISTIAN BEITNES&quot;</td><td>&quot;KPN INTERNATIONAL LIMITED&quot;</td></tr><tr><td>&quot;LARS CHRISTIAN BEITNES&quot;</td><td>&quot;AGROCORTEX INVESTMENT PARTNERS LIMITED&quot;</td></tr><tr><td>&quot;LARS CHRISTIAN BEITNES&quot;</td><td>&quot;PRACTISED ARTS HOLDINGS LIMITED&quot;</td></tr><tr><td>&quot;LARS CHRISTIAN BEITNES&quot;</td><td>&quot;CADDIS HOLDINGS LIMITED&quot;</td></tr><tr><td>&quot;BJORN FJELLBY&quot;</td><td>&quot;SCOUT LTD&quot;</td></tr><tr><td>&quot;LARS CHRISTIAN BEITNES&quot;</td><td>&quot;ADHARMA HOLDINGS LIMITED&quot;</td></tr><tr><td>&quot;MEHRDAD REZAEIAN&quot;</td><td>&quot;ADHARMA HOLDINGS LIMITED&quot;</td></tr><tr><td>&quot;LARS CHRISTIAN BEITNES&quot;</td><td>&quot;OVENTUS HOLDINGS LIMITED&quot;</td></tr><tr><td>&quot;JO REMME&quot;</td><td>&quot;EUROLINX LIMITED&quot;</td></tr></tbody></table></div>"
      ],
      "text/plain": [
       "shape: (2_365, 2)\n",
       "┌──────────────────────────────────────────┬──────────────────────────┐\n",
       "│ oname                                    ┆ cname                    │\n",
       "│ ---                                      ┆ ---                      │\n",
       "│ str                                      ┆ str                      │\n",
       "╞══════════════════════════════════════════╪══════════════════════════╡\n",
       "│ THE BEARER                               ┆ WILDERNESS CORP.         │\n",
       "│ THE BEARER                               ┆ CAPITOL INC.             │\n",
       "│ THE BEARER                               ┆ CAPITOL INC.             │\n",
       "│ PER GUNNAR RYMER AND ELSE RAGNHILD RYMER ┆ CAPITOL INC.             │\n",
       "│ …                                        ┆ …                        │\n",
       "│ LARS CHRISTIAN BEITNES                   ┆ ADHARMA HOLDINGS LIMITED │\n",
       "│ MEHRDAD REZAEIAN                         ┆ ADHARMA HOLDINGS LIMITED │\n",
       "│ LARS CHRISTIAN BEITNES                   ┆ OVENTUS HOLDINGS LIMITED │\n",
       "│ JO REMME                                 ┆ EUROLINX LIMITED         │\n",
       "└──────────────────────────────────────────┴──────────────────────────┘"
      ]
     },
     "execution_count": 349,
     "metadata": {},
     "output_type": "execute_result"
    }
   ],
   "source": [
    "m.query(\"\"\"\n",
    "PREFIX pan:<https://github.com/DataTreehouse/maplib_workshop/pan#>\n",
    "PREFIX rdfs:<http://www.w3.org/2000/01/rdf-schema#>\n",
    "SELECT ?oname ?cname WHERE {\n",
    "    ?officer a pan:Officer .\n",
    "    ?officer rdfs:label ?oname .\n",
    "    ?officer pan:officer_of ?c .\n",
    "    ?c rdfs:label ?cname .\n",
    "    ?officer pan:country \"Norway\" .\n",
    "}\n",
    "\"\"\")"
   ]
  },
  {
   "cell_type": "code",
   "execution_count": 350,
   "id": "1671d7f4",
   "metadata": {},
   "outputs": [
    {
     "data": {
      "text/html": [
       "<div><style>\n",
       ".dataframe > thead > tr > th,\n",
       ".dataframe > tbody > tr > td {\n",
       "  text-align: right;\n",
       "}\n",
       "</style>\n",
       "<small>shape: (20, 2)</small><table border=\"1\" class=\"dataframe\"><thead><tr><th>oname</th><th>ccount</th></tr><tr><td>str</td><td>u32</td></tr></thead><tbody><tr><td>&quot;LARS CHRISTIAN BEITNES&quot;</td><td>239</td></tr><tr><td>&quot;THOMAS JACOBSEN&quot;</td><td>61</td></tr><tr><td>&quot;SVEND ERIK ENGER&quot;</td><td>31</td></tr><tr><td>&quot;Troim - Tor Olav&quot;</td><td>26</td></tr><tr><td>&quot;THE BEARER&quot;</td><td>19</td></tr><tr><td>&quot;Bassoe - Erland P&quot;</td><td>14</td></tr><tr><td>&quot;Ernst &amp; Young  AS,  Oslo, Norway&quot;</td><td>14</td></tr><tr><td>&quot;Osthus - Jon Olav&quot;</td><td>13</td></tr><tr><td>&quot;ANDRE ANDERSEN LAVOLD&quot;</td><td>12</td></tr><tr><td>&quot;SIGURD HENRIK VEDAL&quot;</td><td>11</td></tr><tr><td>&quot;Borge - Morten&quot;</td><td>11</td></tr><tr><td>&quot;Tiller - Erik&quot;</td><td>11</td></tr><tr><td>&quot;Guttormsen - Thor Jørgen&quot;</td><td>10</td></tr><tr><td>&quot;Horn - Hans Jochum&quot;</td><td>10</td></tr><tr><td>&quot;Høegh - Leif Ovesøn&quot;</td><td>10</td></tr><tr><td>&quot;GEIR STORMORKEN&quot;</td><td>10</td></tr><tr><td>&quot;TROND-ROGER JOHANNESSEN&quot;</td><td>10</td></tr><tr><td>&quot;EINAR BOLSTAD&quot;</td><td>10</td></tr><tr><td>&quot;Arthur Andersen, Norway&quot;</td><td>10</td></tr><tr><td>&quot;TRYM JACOBSEN&quot;</td><td>9</td></tr></tbody></table></div>"
      ],
      "text/plain": [
       "shape: (20, 2)\n",
       "┌─────────────────────────┬────────┐\n",
       "│ oname                   ┆ ccount │\n",
       "│ ---                     ┆ ---    │\n",
       "│ str                     ┆ u32    │\n",
       "╞═════════════════════════╪════════╡\n",
       "│ LARS CHRISTIAN BEITNES  ┆ 239    │\n",
       "│ THOMAS JACOBSEN         ┆ 61     │\n",
       "│ SVEND ERIK ENGER        ┆ 31     │\n",
       "│ Troim - Tor Olav        ┆ 26     │\n",
       "│ …                       ┆ …      │\n",
       "│ TROND-ROGER JOHANNESSEN ┆ 10     │\n",
       "│ EINAR BOLSTAD           ┆ 10     │\n",
       "│ Arthur Andersen, Norway ┆ 10     │\n",
       "│ TRYM JACOBSEN           ┆ 9      │\n",
       "└─────────────────────────┴────────┘"
      ]
     },
     "execution_count": 350,
     "metadata": {},
     "output_type": "execute_result"
    }
   ],
   "source": [
    "m.query(\"\"\"\n",
    "PREFIX pan:<https://github.com/DataTreehouse/maplib_workshop/pan#>\n",
    "PREFIX rdfs:<http://www.w3.org/2000/01/rdf-schema#>\n",
    "SELECT ?oname (COUNT(?cname) as ?ccount) WHERE {\n",
    "    ?officer a pan:Officer .\n",
    "    ?officer rdfs:label ?oname .\n",
    "    ?officer pan:officer_of ?c .\n",
    "    ?c rdfs:label ?cname .\n",
    "    ?officer pan:country \"Norway\" .\n",
    "}\n",
    "GROUP BY ?oname\n",
    "ORDER BY DESC(?ccount)\n",
    "LIMIT 20\n",
    "\"\"\")"
   ]
  },
  {
   "cell_type": "code",
   "execution_count": 351,
   "id": "6d6a159c",
   "metadata": {},
   "outputs": [
    {
     "data": {
      "text/html": [
       "<div><style>\n",
       ".dataframe > thead > tr > th,\n",
       ".dataframe > tbody > tr > td {\n",
       "  text-align: right;\n",
       "}\n",
       "</style>\n",
       "<small>shape: (100, 2)</small><table border=\"1\" class=\"dataframe\"><thead><tr><th>iname</th><th>count</th></tr><tr><td>str</td><td>u32</td></tr></thead><tbody><tr><td>&quot;Morning Star Holdings Limited&quot;</td><td>35358</td></tr><tr><td>&quot;MOSSACK FONSECA &amp; CO. (BAHAMAS) LIMITED&quot;</td><td>14901</td></tr><tr><td>&quot;UBS TRUSTEES (BAHAMAS) LTD.&quot;</td><td>9717</td></tr><tr><td>&quot;CREDIT SUISSE TRUST LIMITED&quot;</td><td>8299</td></tr><tr><td>&quot;TRIDENT CORPORATE SERVICES (BAH) LTD&quot;</td><td>8286</td></tr><tr><td>&quot;MMG BAHAMAS LTD.&quot;</td><td>8149</td></tr><tr><td>&quot;ORION HOUSE SERVICES (HK) LIMITED&quot;</td><td>7016</td></tr><tr><td>&quot;Internal User&quot;</td><td>6607</td></tr><tr><td>&quot;Unitrust Corporate Services Ltd.&quot;</td><td>5699</td></tr><tr><td>&quot;K.M.C. CORPORATE SERVICES LTD.&quot;</td><td>5318</td></tr><tr><td>&quot;** DISABLED SUISSE SECURITY BANK &amp; TRUST&quot;</td><td>5014</td></tr><tr><td>&quot;PRIVATE TRUST CORPORATION LIMITED&quot;</td><td>4995</td></tr><tr><td>&hellip;</td><td>&hellip;</td></tr><tr><td>&quot;DBS Corporate Services (HK) Ltd&quot;</td><td>1026</td></tr><tr><td>&quot;Asia One Corporate Services Ltd.&quot;</td><td>1002</td></tr><tr><td>&quot;CREDIT SUISSE, NASSAU BRANCH-WEALTH MGT.&quot;</td><td>972</td></tr><tr><td>&quot;BANQUE J. SAFRA SARASIN - LUXEMBOURG S.A.&quot;</td><td>963</td></tr><tr><td>&quot;STERLING (BAHAMAS) LIMITED&quot;</td><td>956</td></tr><tr><td>&quot;Christabel Corporate Services Limited&quot;</td><td>954</td></tr><tr><td>&quot;CHASE MANHATTAN PRIVATE BANK &amp; TRUST COM&quot;</td><td>940</td></tr><tr><td>&quot;Meridian Trust Company Ltd.&quot;</td><td>935</td></tr><tr><td>&quot;Chancery Chambers&quot;</td><td>924</td></tr><tr><td>&quot;CREDIT SUISSE  CHANNEL ISLANDS    LIMITED&quot;</td><td>918</td></tr><tr><td>&quot;ZOLTY, LIC. ANDRE&quot;</td><td>912</td></tr><tr><td>&quot;UNIVERSAL LEGAL SERVICES&quot;</td><td>893</td></tr></tbody></table></div>"
      ],
      "text/plain": [
       "shape: (100, 2)\n",
       "┌───────────────────────────────────────────┬───────┐\n",
       "│ iname                                     ┆ count │\n",
       "│ ---                                       ┆ ---   │\n",
       "│ str                                       ┆ u32   │\n",
       "╞═══════════════════════════════════════════╪═══════╡\n",
       "│ Morning Star Holdings Limited             ┆ 35358 │\n",
       "│ MOSSACK FONSECA & CO. (BAHAMAS) LIMITED   ┆ 14901 │\n",
       "│ UBS TRUSTEES (BAHAMAS) LTD.               ┆ 9717  │\n",
       "│ CREDIT SUISSE TRUST LIMITED               ┆ 8299  │\n",
       "│ …                                         ┆ …     │\n",
       "│ Chancery Chambers                         ┆ 924   │\n",
       "│ CREDIT SUISSE  CHANNEL ISLANDS    LIMITED ┆ 918   │\n",
       "│ ZOLTY, LIC. ANDRE                         ┆ 912   │\n",
       "│ UNIVERSAL LEGAL SERVICES                  ┆ 893   │\n",
       "└───────────────────────────────────────────┴───────┘"
      ]
     },
     "execution_count": 351,
     "metadata": {},
     "output_type": "execute_result"
    }
   ],
   "source": [
    "m.query(\"\"\"\n",
    "PREFIX pan:<https://github.com/DataTreehouse/maplib_workshop/pan#>\n",
    "PREFIX rdfs:<http://www.w3.org/2000/01/rdf-schema#>\n",
    "SELECT ?iname (COUNT(?o) as ?count) WHERE {\n",
    "    ?intermediary a pan:Intermediary .\n",
    "    ?intermediary rdfs:label ?iname .\n",
    "    ?intermediary pan:intermediary_of ?o .\n",
    "} GROUP BY ?intermediary ?iname \n",
    "ORDER BY DESC(?count)\n",
    "LIMIT 100\n",
    "\"\"\")"
   ]
  },
  {
   "cell_type": "code",
   "execution_count": 352,
   "id": "779cf331",
   "metadata": {},
   "outputs": [],
   "source": [
    "m.write_ntriples(\"leaks.nt\")"
   ]
  },
  {
   "cell_type": "code",
   "execution_count": null,
   "id": "eef967b3",
   "metadata": {},
   "outputs": [],
   "source": []
  }
 ],
 "metadata": {
  "kernelspec": {
   "display_name": "Python 3 (ipykernel)",
   "language": "python",
   "name": "python3"
  },
  "language_info": {
   "codemirror_mode": {
    "name": "ipython",
    "version": 3
   },
   "file_extension": ".py",
   "mimetype": "text/x-python",
   "name": "python",
   "nbconvert_exporter": "python",
   "pygments_lexer": "ipython3",
   "version": "3.10.13"
  }
 },
 "nbformat": 4,
 "nbformat_minor": 5
}
