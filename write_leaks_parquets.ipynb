{
 "cells": [
  {
   "cell_type": "code",
   "execution_count": 12,
   "id": "3100d43d",
   "metadata": {},
   "outputs": [],
   "source": [
    "import os\n",
    "import polars as pl\n",
    "offshoreleaks_folder = \"offshoreleaks\""
   ]
  },
  {
   "cell_type": "code",
   "execution_count": 14,
   "id": "2dcc5585",
   "metadata": {},
   "outputs": [],
   "source": [
    "for f in os.listdir(\"offshoreleaks\"):\n",
    "    if f.endswith(\".csv\"):\n",
    "        df = pl.scan_csv(f\"{offshoreleaks_folder}/{f}\", dtypes={\"internal_id\":pl.Utf8}).collect()\n",
    "        new_file = f.replace(\".csv\", \".parquet\")\n",
    "        df.write_parquet(f\"{offshoreleaks_folder}/{new_file}\")"
   ]
  }
 ],
 "metadata": {
  "kernelspec": {
   "display_name": "Python 3 (ipykernel)",
   "language": "python",
   "name": "python3"
  },
  "language_info": {
   "codemirror_mode": {
    "name": "ipython",
    "version": 3
   },
   "file_extension": ".py",
   "mimetype": "text/x-python",
   "name": "python",
   "nbconvert_exporter": "python",
   "pygments_lexer": "ipython3",
   "version": "3.10.13"
  }
 },
 "nbformat": 4,
 "nbformat_minor": 5
}
